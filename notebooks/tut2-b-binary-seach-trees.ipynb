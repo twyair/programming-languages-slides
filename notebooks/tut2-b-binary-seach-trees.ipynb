{
 "cells": [
  {
   "source": [
    "## trees"
   ],
   "cell_type": "markdown",
   "metadata": {}
  },
  {
   "cell_type": "code",
   "execution_count": 3,
   "metadata": {},
   "outputs": [
    {
     "output_type": "execute_result",
     "data": {
      "text/plain": [
       "type 'a tree = Nil | Br of 'a * 'a tree * 'a tree\n"
      ]
     },
     "metadata": {},
     "execution_count": 3
    }
   ],
   "source": [
    "type 'a tree = Nil | Br of 'a * ('a tree) * ('a tree);;"
   ]
  },
  {
   "cell_type": "code",
   "execution_count": 4,
   "metadata": {},
   "outputs": [
    {
     "output_type": "execute_result",
     "data": {
      "text/plain": [
       "val leaf : 'a -> 'a tree = <fun>\n"
      ]
     },
     "metadata": {},
     "execution_count": 4
    },
    {
     "output_type": "execute_result",
     "data": {
      "text/plain": [
       "val tree2 : int tree = Br (2, Br (1, Nil, Nil), Br (3, Nil, Nil))\n"
      ]
     },
     "metadata": {},
     "execution_count": 4
    },
    {
     "output_type": "execute_result",
     "data": {
      "text/plain": [
       "val tree5 : int tree = Br (5, Br (6, Nil, Nil), Br (7, Nil, Nil))\n"
      ]
     },
     "metadata": {},
     "execution_count": 4
    },
    {
     "output_type": "execute_result",
     "data": {
      "text/plain": [
       "val tree4 : int tree =\n",
       "  Br (4, Br (2, Br (1, Nil, Nil), Br (3, Nil, Nil)),\n",
       "   Br (5, Br (6, Nil, Nil), Br (7, Nil, Nil)))\n"
      ]
     },
     "metadata": {},
     "execution_count": 4
    }
   ],
   "source": [
    "let leaf x = Br (x, Nil, Nil);;\n",
    "let tree2 = Br(2, leaf 1, leaf 3);;\n",
    "let tree5 = Br(5, leaf 6, leaf 7);;\n",
    "let tree4 = Br(4, tree2, tree5);;"
   ]
  },
  {
   "source": [
    "## binary search trees\n",
    "\n",
    "type ('a,'b) search_tree = ('a * 'b) tree;;"
   ],
   "cell_type": "markdown",
   "metadata": {}
  },
  {
   "source": [
    "#### implement `size`\n",
    "\n",
    "```ocaml\n",
    "val size : 'a tree -> int\n",
    "```"
   ],
   "cell_type": "markdown",
   "metadata": {}
  },
  {
   "cell_type": "code",
   "execution_count": null,
   "metadata": {},
   "outputs": [],
   "source": []
  },
  {
   "source": [
    "#### implement `get`\n",
    "\n",
    "`get` takes a tree and a key and if the key is present returns an `option` of the associated value otherwise it returns `None`\n",
    "\n",
    "```ocaml\n",
    "val get : ('a * 'b) tree -> 'a -> 'b option\n",
    "```\n",
    "\n",
    "reminder:\n",
    "```ocaml\n",
    "type 'a option = None | Some of 'a;;\n",
    "```\n"
   ],
   "cell_type": "markdown",
   "metadata": {}
  },
  {
   "cell_type": "code",
   "execution_count": null,
   "metadata": {},
   "outputs": [],
   "source": []
  },
  {
   "source": [
    "#### implement insert\n",
    "\n",
    "`insert` takes a tree and a key value pair and returns a new tree with the pair inserted to it\n",
    "\n",
    "```ocaml\n",
    "val insert : ('a * 'b) tree -> 'a * 'b -> ('a * 'b) tree\n",
    "```"
   ],
   "cell_type": "markdown",
   "metadata": {}
  },
  {
   "cell_type": "code",
   "execution_count": null,
   "metadata": {},
   "outputs": [],
   "source": []
  }
 ],
 "metadata": {
  "kernelspec": {
   "display_name": "OCaml default",
   "language": "OCaml",
   "name": "ocaml-jupyter"
  },
  "language_info": {
   "codemirror_mode": "text/x-ocaml",
   "file_extension": ".ml",
   "mimetype": "text/x-ocaml",
   "name": "OCaml",
   "nbconverter_exporter": null,
   "pygments_lexer": "OCaml",
   "version": "4.08.1"
  }
 },
 "nbformat": 4,
 "nbformat_minor": 4
}