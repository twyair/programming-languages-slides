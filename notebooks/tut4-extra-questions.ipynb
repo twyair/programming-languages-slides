{
 "cells": [
  {
   "source": [
    "implement a tail recursive append\n",
    "\n",
    "### reminder:\n",
    "\n",
    "```ocaml\n",
    "let (@) xs ys = match xs with\n",
    "    | [] -> ys\n",
    "    | x::xs -> x :: (xs @ ys);;\n",
    "```"
   ],
   "cell_type": "markdown",
   "metadata": {}
  },
  {
   "cell_type": "code",
   "execution_count": null,
   "metadata": {},
   "outputs": [],
   "source": [
    "let (@) (*...*)"
   ]
  },
  {
   "source": [
    "implement `flatten` using `fold_right`\n",
    "\n",
    "```ocaml\n",
    "val flatten: 'a list list -> 'a list\n",
    "flatten [[1;2;3]; [4;5;6]; []; [7;8;9]];;\n",
    "(*- : int list = [1; 2; 3; 4; 5; 6; 7; 8; 9]*)\n",
    "```"
   ],
   "cell_type": "markdown",
   "metadata": {}
  },
  {
   "cell_type": "code",
   "execution_count": null,
   "metadata": {},
   "outputs": [],
   "source": [
    "let rec flatten xs = List.fold_right\n",
    "    _\n",
    "    _\n",
    "    _\n",
    ";;"
   ]
  },
  {
   "cell_type": "code",
   "execution_count": null,
   "metadata": {},
   "outputs": [],
   "source": [
    "let test = flatten [[1;2;3]; [4;5;6]; []; [7;8;9]];;"
   ]
  },
  {
   "source": [
    "implement `flatten` using `fold_left`"
   ],
   "cell_type": "markdown",
   "metadata": {}
  },
  {
   "cell_type": "code",
   "execution_count": null,
   "metadata": {},
   "outputs": [],
   "source": [
    "let flatten xs = List.fold_left\n",
    "    _\n",
    "    _\n",
    "    _\n",
    ";;"
   ]
  },
  {
   "cell_type": "code",
   "execution_count": null,
   "metadata": {},
   "outputs": [],
   "source": [
    "let test = flatten [[1;2;3]; [4;5;6]; []; [7;8;9]];;"
   ]
  }
 ],
 "metadata": {
  "kernelspec": {
   "display_name": "OCaml default",
   "language": "OCaml",
   "name": "ocaml-jupyter"
  },
  "language_info": {
   "codemirror_mode": "text/x-ocaml",
   "file_extension": ".ml",
   "mimetype": "text/x-ocaml",
   "name": "OCaml",
   "nbconverter_exporter": null,
   "pygments_lexer": "OCaml",
   "version": "4.08.1"
  }
 },
 "nbformat": 4,
 "nbformat_minor": 4
}