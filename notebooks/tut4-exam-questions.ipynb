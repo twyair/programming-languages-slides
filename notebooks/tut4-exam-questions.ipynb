{
 "cells": [
  {
   "source": [
    "## question 1"
   ],
   "cell_type": "markdown",
   "metadata": {}
  },
  {
   "source": [
    "implement `map` using `fold_left`\n",
    "```ocaml\n",
    "val map: ('a -> 'b) -> 'a list -> 'b list\n",
    "val fold_left: ('a -> 'b -> 'a) -> 'a -> 'b list -> 'a\n",
    "```"
   ],
   "cell_type": "markdown",
   "metadata": {}
  },
  {
   "cell_type": "code",
   "execution_count": null,
   "metadata": {},
   "outputs": [],
   "source": [
    "let map f xs = List.fold_left\n",
    "    _\n",
    "    _\n",
    "    xs\n",
    ";;"
   ]
  },
  {
   "cell_type": "code",
   "execution_count": null,
   "metadata": {},
   "outputs": [],
   "source": [
    "let test = map (( * ) 2) [1;2;3];;"
   ]
  },
  {
   "source": [
    "## question 2\n",
    "\n",
    "implement `insertion_sort` using `fold_right`\n",
    "\n",
    "```ocaml\n",
    "val insertion_sort: ('a -> 'a -> bool) -> 'a list -> 'a list\n",
    "val fold_right: ('a -> 'b -> 'b) -> 'a list -> 'b -> 'b\n",
    "```\n",
    "\n",
    "(you may define helper functions)"
   ],
   "cell_type": "markdown",
   "metadata": {}
  },
  {
   "cell_type": "code",
   "execution_count": null,
   "metadata": {},
   "outputs": [],
   "source": [
    "let insertion_sort lt xs = List.fold_right\n",
    "    _\n",
    "    xs\n",
    "    _\n",
    ";;"
   ]
  },
  {
   "cell_type": "code",
   "execution_count": null,
   "metadata": {},
   "outputs": [],
   "source": [
    "let test = insertion_sort (<) [0;3;2;4;1];;"
   ]
  }
 ],
 "metadata": {
  "kernelspec": {
   "display_name": "OCaml default",
   "language": "OCaml",
   "name": "ocaml-jupyter"
  },
  "language_info": {
   "codemirror_mode": "text/x-ocaml",
   "file_extension": ".ml",
   "mimetype": "text/x-ocaml",
   "name": "OCaml",
   "nbconverter_exporter": null,
   "pygments_lexer": "OCaml",
   "version": "4.08.1"
  }
 },
 "nbformat": 4,
 "nbformat_minor": 4
}